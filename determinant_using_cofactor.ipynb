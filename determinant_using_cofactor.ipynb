{
  "nbformat": 4,
  "nbformat_minor": 0,
  "metadata": {
    "colab": {
      "provenance": [],
      "authorship_tag": "ABX9TyOmIHvpfvdPGkscTNXKDu5c",
      "include_colab_link": true
    },
    "kernelspec": {
      "name": "python3",
      "display_name": "Python 3"
    },
    "language_info": {
      "name": "python"
    }
  },
  "cells": [
    {
      "cell_type": "markdown",
      "metadata": {
        "id": "view-in-github",
        "colab_type": "text"
      },
      "source": [
        "<a href=\"https://colab.research.google.com/github/teerasitk/EEMATH/blob/main/determinant_using_cofactor.ipynb\" target=\"_parent\"><img src=\"https://colab.research.google.com/assets/colab-badge.svg\" alt=\"Open In Colab\"/></a>"
      ]
    },
    {
      "cell_type": "code",
      "source": [
        "import numpy as np\n",
        "import time"
      ],
      "metadata": {
        "id": "hI5vqOmuTE7R"
      },
      "execution_count": 1,
      "outputs": []
    },
    {
      "cell_type": "code",
      "execution_count": 2,
      "metadata": {
        "id": "jquqluaRTDga"
      },
      "outputs": [],
      "source": [
        "def getMatrixMinor(arr,i,j):\n",
        "  c = arr[:]\n",
        "  c = np.delete(c, (i),axis=0)\n",
        "  return np.array([np.delete(row, (j),axis=0) for row in (c)])\n",
        "def detCofactor(A):\n",
        "  if A.ndim !=2 :\n",
        "    raise Exception(\"Input must be a matrix.\")\n",
        "  if A.shape[0] != A.shape[1]:\n",
        "    raise Exception(\"Matrix must be square.\")\n",
        "  if A.shape[0] == 2:\n",
        "    det = A[0,0]*A[1,1] - A[1,0] * A[0,1]\n",
        "    return det\n",
        "  elif A.shape[0] == 1:\n",
        "    return A[0,0]\n",
        "  else:\n",
        "    det = 0\n",
        "    i = 0\n",
        "    for j in range(A.shape[1]):\n",
        "      aij = A[i,j]\n",
        "      Mij = getMatrixMinor(A,i,j)\n",
        "      if (i +j) % 2 == 0:\n",
        "        Cij = detCofactor(Mij)\n",
        "      else:\n",
        "        Cij = -detCofactor(Mij)\n",
        "      det += aij * Cij\n",
        "    return det"
      ]
    },
    {
      "cell_type": "code",
      "source": [
        "n = 7\n",
        "A = np.random.randn(n,n)\n",
        "tic = time.perf_counter()\n",
        "det = detCofactor(A)\n",
        "toc = time.perf_counter()\n",
        "print(f\"Time: {toc-tic}\")\n"
      ],
      "metadata": {
        "colab": {
          "base_uri": "https://localhost:8080/"
        },
        "id": "RlV2vj2-TJJq",
        "outputId": "9f078764-3bc6-436d-9957-fca703d54c52"
      },
      "execution_count": 7,
      "outputs": [
        {
          "output_type": "stream",
          "name": "stdout",
          "text": [
            "Time: 0.07966064800001504\n"
          ]
        }
      ]
    }
  ]
}