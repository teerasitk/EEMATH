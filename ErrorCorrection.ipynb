{
  "nbformat": 4,
  "nbformat_minor": 0,
  "metadata": {
    "colab": {
      "provenance": [],
      "authorship_tag": "ABX9TyOG3IriUesskyrS93IeGk4j",
      "include_colab_link": true
    },
    "kernelspec": {
      "name": "python3",
      "display_name": "Python 3"
    },
    "language_info": {
      "name": "python"
    }
  },
  "cells": [
    {
      "cell_type": "markdown",
      "metadata": {
        "id": "view-in-github",
        "colab_type": "text"
      },
      "source": [
        "<a href=\"https://colab.research.google.com/github/teerasitk/EEMATH/blob/main/ErrorCorrection.ipynb\" target=\"_parent\"><img src=\"https://colab.research.google.com/assets/colab-badge.svg\" alt=\"Open In Colab\"/></a>"
      ]
    },
    {
      "cell_type": "code",
      "source": [
        "import numpy as np\n",
        "import matplotlib.pyplot as plt"
      ],
      "metadata": {
        "id": "ILBvGvee0Itw"
      },
      "execution_count": 1,
      "outputs": []
    },
    {
      "cell_type": "code",
      "source": [
        "def compSyndrone(decision:np.ndarray, H:np.ndarray)->np.ndarray:\n",
        "  \"\"\"\n",
        "  decision: 7xn binary array\n",
        "  H: hamming decoder matrix of size 7 x 3\n",
        "  return syndrone binary array of size 3 x N\n",
        "  \"\"\"\n",
        "  s = (np.dot(H.T, decision) % 2).astype('int')\n",
        "  return s\n",
        "\n",
        "# error_pattern = [[0, 0, 0, 0, 0, 0, 0, 0], # 000\n",
        "#                  [0, 0, 0, 0, 0, 0, 0, 1], # 001\n",
        "#                  [0, 0, 0, 0, 0, 0, 1, 0], # 010\n",
        "#                  [0, 0, 1, 0, 0, 0, 0, 0], # 011\n",
        "#                  [0, 0, 0, 0, 0, 1, 0, 0], # 100\n",
        "#                  [0, 1, 0, 0, 0, 0, 0, 0], # 101\n",
        "#                  [1, 0, 0, 0, 0, 0, 0, 0], # 110\n",
        "#                  [0, 0, 0, 1, 0, 0, 0, 0]] # 111\n",
        "\n",
        "def errorCorrection(decision, H, error_pattern):\n",
        "  syndrome = compSyndrone(decision, H).astype('int')\n",
        "  value = syndrome[0, :] *4 + syndrome[1, :] * 2  + syndrome[2, :]\n",
        "  error_loc = error_pattern[value].T\n",
        "  corrected_decision = (decision + error_loc) %2\n",
        "  return corrected_decision"
      ],
      "metadata": {
        "id": "3WWoyims1JDa"
      },
      "execution_count": 2,
      "outputs": []
    },
    {
      "cell_type": "code",
      "source": [
        "def hammingEncoder(src: np.ndarray) -> np.ndarray:\n",
        "  \"\"\"\n",
        "  src: 4 x N binary array\n",
        "  return: 7 x n binary array\n",
        "  \"\"\"\n",
        "  A = np.array([[1, 1, 0],\n",
        "                [1, 0, 1],\n",
        "                [0, 1, 1],\n",
        "                [1, 1, 1]])\n",
        "  I4 = np.eye(4)\n",
        "  G = np.concatenate(([I4, A.T]), axis=0) # Encoder Matrix\n",
        "  hamming_src = np.dot(G, src) % 2 # modular 2 to make sure that the output is binary\n",
        "  return hamming_src.astype('int')\n",
        "\n",
        "\n",
        "def hammingDecoder(src: np.ndarray) -> np.ndarray:\n",
        "  \"\"\"\n",
        "  src: 7 x N binary array\n",
        "  return: 4 x n binary array\n",
        "  \"\"\"\n",
        "  A = np.array([[1, 1, 0],\n",
        "              [1, 0, 1],\n",
        "              [0, 1, 1],\n",
        "              [1, 1, 1]])\n",
        "  I3 = np.eye(3)\n",
        "  H = np.concatenate(([A, I3]), axis=0) # Decoder Matrinx\n",
        "  error_pattern = [np.zeros(7,) for k in range(8)] # extract Syndrome\n",
        "  a = np.zeros((7,)) # no error first\n",
        "  s = np.dot(H.T,a).astype('int')\n",
        "  error_pattern[s[0]*4 + s[1] *2 + s[2]] = a\n",
        "  for k in range(7):\n",
        "    a = np.zeros((7,))\n",
        "    a[k] = 1\n",
        "    s = np.dot(H.T,a).astype('int')\n",
        "    error_pattern[s[0] * 4 + s[1] * 2 + s[2]] = a\n",
        "  error_pattern = np.array(error_pattern)\n",
        "  corrected_codes =  errorCorrection(src, H, error_pattern)\n",
        "  return corrected_codes[:4, :].astype('int')\n"
      ],
      "metadata": {
        "id": "estzwhf90BFM"
      },
      "execution_count": 3,
      "outputs": []
    },
    {
      "cell_type": "code",
      "source": [
        "# parameter for experimental setup\n",
        "N = 8# number samples\n",
        "signal_power  = 1\n",
        "SNR_dB = 0 # 10 * np.log10(SNR)\n",
        "SNR = 10 ** (SNR_dB/10)\n",
        "noise_power = signal_power / SNR\n",
        "noise_magnitude = np.sqrt(noise_power)\n",
        "print(f\"Signal to noise ration: {SNR_dB:0.2f} dB with noise magnitude: {noise_magnitude:0.3f}\")"
      ],
      "metadata": {
        "colab": {
          "base_uri": "https://localhost:8080/"
        },
        "id": "AzW4idMzAFVQ",
        "outputId": "b081a80b-4766-40d6-fa97-8fb2cd678bbe"
      },
      "execution_count": 4,
      "outputs": [
        {
          "output_type": "stream",
          "name": "stdout",
          "text": [
            "Signal to noise ration: 0.00 dB with noise magnitude: 1.000\n"
          ]
        }
      ]
    },
    {
      "cell_type": "code",
      "source": [
        "# source encoder\n",
        "src = np.random.choice(2, size=(4, N)) # 8 binary codes of size 4 bits\n",
        "hamming_src = hammingEncoder(src)\n",
        "for k in range(N):\n",
        "  print(\"Input Binary 4 bits: \", src[:, k], \"Hamming Code 7 bits: \", hamming_src[:, k])\n"
      ],
      "metadata": {
        "colab": {
          "base_uri": "https://localhost:8080/"
        },
        "id": "okKMTwHr3_RF",
        "outputId": "7fe6e6e4-3f53-4d47-fbef-1a81c240ff4c"
      },
      "execution_count": 12,
      "outputs": [
        {
          "output_type": "stream",
          "name": "stdout",
          "text": [
            "Input Binary 4 bits:  [1 0 0 0] Hamming Code 7 bits:  [1 0 0 0 1 1 0]\n",
            "Input Binary 4 bits:  [1 1 0 1] Hamming Code 7 bits:  [1 1 0 1 1 0 0]\n",
            "Input Binary 4 bits:  [1 1 0 1] Hamming Code 7 bits:  [1 1 0 1 1 0 0]\n",
            "Input Binary 4 bits:  [0 0 1 1] Hamming Code 7 bits:  [0 0 1 1 1 0 0]\n",
            "Input Binary 4 bits:  [1 0 1 1] Hamming Code 7 bits:  [1 0 1 1 0 1 0]\n",
            "Input Binary 4 bits:  [0 0 1 0] Hamming Code 7 bits:  [0 0 1 0 0 1 1]\n",
            "Input Binary 4 bits:  [0 0 0 1] Hamming Code 7 bits:  [0 0 0 1 1 1 1]\n",
            "Input Binary 4 bits:  [1 0 0 0] Hamming Code 7 bits:  [1 0 0 0 1 1 0]\n"
          ]
        }
      ]
    },
    {
      "cell_type": "code",
      "source": [
        "# convert src into signal to send \"1\" we use 1 volt to send \"0\" we use -1 volt.\n",
        "signal = hamming_src  * 2 - 1\n",
        "for k in range(N):\n",
        "  print(\"Hamming Code 7 bits: \", hamming_src[:, k], \"Signal : \", signal[:, k])"
      ],
      "metadata": {
        "colab": {
          "base_uri": "https://localhost:8080/"
        },
        "id": "Ofkgcm1K5GIa",
        "outputId": "b40aa30d-38ef-4037-cdf9-1e86992fff60"
      },
      "execution_count": 13,
      "outputs": [
        {
          "output_type": "stream",
          "name": "stdout",
          "text": [
            "Hamming Code 7 bits:  [1 0 0 0 1 1 0] Signal :  [ 1 -1 -1 -1  1  1 -1]\n",
            "Hamming Code 7 bits:  [1 1 0 1 1 0 0] Signal :  [ 1  1 -1  1  1 -1 -1]\n",
            "Hamming Code 7 bits:  [1 1 0 1 1 0 0] Signal :  [ 1  1 -1  1  1 -1 -1]\n",
            "Hamming Code 7 bits:  [0 0 1 1 1 0 0] Signal :  [-1 -1  1  1  1 -1 -1]\n",
            "Hamming Code 7 bits:  [1 0 1 1 0 1 0] Signal :  [ 1 -1  1  1 -1  1 -1]\n",
            "Hamming Code 7 bits:  [0 0 1 0 0 1 1] Signal :  [-1 -1  1 -1 -1  1  1]\n",
            "Hamming Code 7 bits:  [0 0 0 1 1 1 1] Signal :  [-1 -1 -1  1  1  1  1]\n",
            "Hamming Code 7 bits:  [1 0 0 0 1 1 0] Signal :  [ 1 -1 -1 -1  1  1 -1]\n"
          ]
        }
      ]
    },
    {
      "cell_type": "code",
      "source": [
        "# All transmission in communication system is noisy,\n",
        "received_signal = signal + noise_magnitude * np.random.randn(7, 8) # 7 bits 8 codes\n",
        "for k in range(N):\n",
        "  print(\"Signal : \", signal[:, k], \"Recieved Signal: \", received_signal[:, k] )"
      ],
      "metadata": {
        "colab": {
          "base_uri": "https://localhost:8080/"
        },
        "id": "iXgEPn2t5rEA",
        "outputId": "4487be13-1f11-4161-cbf6-75b8e39789fe"
      },
      "execution_count": 14,
      "outputs": [
        {
          "output_type": "stream",
          "name": "stdout",
          "text": [
            "Signal :  [ 1 -1 -1 -1  1  1 -1] Recieved Signal:  [ 2.33213307 -1.61903969 -1.80153348 -1.10228016  1.09372801  0.59923692\n",
            " -0.11173786]\n",
            "Signal :  [ 1  1 -1  1  1 -1 -1] Recieved Signal:  [ 1.35356663  0.10625971 -2.6051937   2.74864929  1.45934266 -2.22794164\n",
            "  0.18109885]\n",
            "Signal :  [ 1  1 -1  1  1 -1 -1] Recieved Signal:  [ 0.11638774  1.41383289 -1.89456801  1.42915842  1.44598351  0.32363364\n",
            " -1.4594616 ]\n",
            "Signal :  [-1 -1  1  1  1 -1 -1] Recieved Signal:  [ 0.05278679 -0.03084995  2.83189398  1.52479967  0.50503073 -0.663081\n",
            " -1.07051109]\n",
            "Signal :  [ 1 -1  1  1 -1  1 -1] Recieved Signal:  [ 1.09223951 -0.1347161  -0.00944854  1.27247783 -0.78345605  0.89395698\n",
            " -2.62961757]\n",
            "Signal :  [-1 -1  1 -1 -1  1  1] Recieved Signal:  [-2.18704685 -2.40959132 -0.28259549 -0.42396893  1.05346673 -0.06541594\n",
            "  1.22034749]\n",
            "Signal :  [-1 -1 -1  1  1  1  1] Recieved Signal:  [-0.25065108 -2.75212446 -0.97115295  1.91003444  0.70970647  0.7682322\n",
            " -0.19180197]\n",
            "Signal :  [ 1 -1 -1 -1  1  1 -1] Recieved Signal:  [ 1.88659472 -2.00695364 -1.2981735  -2.50505277  1.26703653  0.15399975\n",
            " -0.73989148]\n"
          ]
        }
      ]
    },
    {
      "cell_type": "code",
      "source": [
        "# make binary decision of recieved signal >= 0, we decide \"1\" and if signal <0, we decide \"1\"\n",
        "decided_code = (received_signal >=0).astype('int')\n",
        "for k in range(N):\n",
        "  print(\"Hamming Code 7 bits: \", hamming_src[:, k], \"decided code: \", decided_code[:, k] )\n",
        "num_bit_errors = (hamming_src != decided_code).sum()\n",
        "error_rate = (hamming_src != decided_code).mean()\n",
        "print(f\"There are {num_bit_errors} from {N*7} bits with error rate {error_rate*100: 0.3f}%\")\n",
        "# 4 bit data\n",
        "num_bit_errors = (hamming_src[:4, :] != decided_code[:4, :]).sum()\n",
        "error_rate = (hamming_src[:4, :] != decided_code[:4, :]).mean()\n",
        "print(f\"For the first 4 bit data. There are {num_bit_errors} from {N*4} bits with error rate {error_rate*100: 0.3f}%\")"
      ],
      "metadata": {
        "colab": {
          "base_uri": "https://localhost:8080/"
        },
        "id": "bCEH2mU66QPO",
        "outputId": "fccdc688-d801-404e-a08d-4438b401ed5c"
      },
      "execution_count": 15,
      "outputs": [
        {
          "output_type": "stream",
          "name": "stdout",
          "text": [
            "Hamming Code 7 bits:  [1 0 0 0 1 1 0] decided code:  [1 0 0 0 1 1 0]\n",
            "Hamming Code 7 bits:  [1 1 0 1 1 0 0] decided code:  [1 1 0 1 1 0 1]\n",
            "Hamming Code 7 bits:  [1 1 0 1 1 0 0] decided code:  [1 1 0 1 1 1 0]\n",
            "Hamming Code 7 bits:  [0 0 1 1 1 0 0] decided code:  [1 0 1 1 1 0 0]\n",
            "Hamming Code 7 bits:  [1 0 1 1 0 1 0] decided code:  [1 0 0 1 0 1 0]\n",
            "Hamming Code 7 bits:  [0 0 1 0 0 1 1] decided code:  [0 0 0 0 1 0 1]\n",
            "Hamming Code 7 bits:  [0 0 0 1 1 1 1] decided code:  [0 0 0 1 1 1 0]\n",
            "Hamming Code 7 bits:  [1 0 0 0 1 1 0] decided code:  [1 0 0 0 1 1 0]\n",
            "There are 8 from 56 bits with error rate  14.286%\n",
            "For the first 4 bit data. There are 3 from 32 bits with error rate  9.375%\n"
          ]
        }
      ]
    },
    {
      "cell_type": "code",
      "source": [
        "# Using Hamming decoder\n",
        "hamming_decoded_code = hammingDecoder(decided_code)\n",
        "for k in range(N):\n",
        "  print(\"source Code 4 bits: \", src[:, k], \"hamming decoded code: \", hamming_decoded_code[:, k] )\n",
        "num_bit_errors = (src !=hamming_decoded_code).sum()\n",
        "error_rate = (src != hamming_decoded_code).mean()\n",
        "print(f\"For the first 4 bit data with Hamming Decoder.\")\n",
        "print(f\"There are {num_bit_errors} from {N*4} bits with error rate {error_rate*100: 0.3f}%\")"
      ],
      "metadata": {
        "id": "fztN6Erxtr0x",
        "colab": {
          "base_uri": "https://localhost:8080/"
        },
        "outputId": "66cb6b24-76a2-48a2-b74e-3cd2182bbf49"
      },
      "execution_count": 16,
      "outputs": [
        {
          "output_type": "stream",
          "name": "stdout",
          "text": [
            "source Code 4 bits:  [1 0 0 0] hamming decoded code:  [1 0 0 0]\n",
            "source Code 4 bits:  [1 1 0 1] hamming decoded code:  [1 1 0 1]\n",
            "source Code 4 bits:  [1 1 0 1] hamming decoded code:  [1 1 0 1]\n",
            "source Code 4 bits:  [0 0 1 1] hamming decoded code:  [0 0 1 1]\n",
            "source Code 4 bits:  [1 0 1 1] hamming decoded code:  [1 0 1 1]\n",
            "source Code 4 bits:  [0 0 1 0] hamming decoded code:  [0 1 0 0]\n",
            "source Code 4 bits:  [0 0 0 1] hamming decoded code:  [0 0 0 1]\n",
            "source Code 4 bits:  [1 0 0 0] hamming decoded code:  [1 0 0 0]\n",
            "For the first 4 bit data with Hamming Decoder.\n",
            "There are 2 from 32 bits with error rate  6.250%\n"
          ]
        }
      ]
    }
  ]
}