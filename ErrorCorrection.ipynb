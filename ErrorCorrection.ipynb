{
  "nbformat": 4,
  "nbformat_minor": 0,
  "metadata": {
    "colab": {
      "provenance": [],
      "authorship_tag": "ABX9TyPgYaRw+GyJQuk8+xklBAu1",
      "include_colab_link": true
    },
    "kernelspec": {
      "name": "python3",
      "display_name": "Python 3"
    },
    "language_info": {
      "name": "python"
    }
  },
  "cells": [
    {
      "cell_type": "markdown",
      "metadata": {
        "id": "view-in-github",
        "colab_type": "text"
      },
      "source": [
        "<a href=\"https://colab.research.google.com/github/teerasitk/EEMATH/blob/main/ErrorCorrection.ipynb\" target=\"_parent\"><img src=\"https://colab.research.google.com/assets/colab-badge.svg\" alt=\"Open In Colab\"/></a>"
      ]
    },
    {
      "cell_type": "code",
      "source": [
        "import numpy as np\n",
        "import matplotlib.pyplot as plt"
      ],
      "metadata": {
        "id": "ILBvGvee0Itw"
      },
      "execution_count": 161,
      "outputs": []
    },
    {
      "cell_type": "code",
      "source": [
        "def compSyndrone(decision:np.ndarray, H:np.ndarray)->np.ndarray:\n",
        "  \"\"\"\n",
        "  decision: 7xn binary array\n",
        "  H: hamming decoder matrix of size 7 x 3\n",
        "  return syndrone binary array of size 3 x N\n",
        "  \"\"\"\n",
        "  s = (np.dot(H.T, decision) % 2).astype('int')\n",
        "  return s\n",
        "\n",
        "# error_pattern = [[0, 0, 0, 0, 0, 0, 0, 0], # 000\n",
        "#                  [0, 0, 0, 0, 0, 0, 0, 1], # 001\n",
        "#                  [0, 0, 0, 0, 0, 0, 1, 0], # 010\n",
        "#                  [0, 0, 1, 0, 0, 0, 0, 0], # 011\n",
        "#                  [0, 0, 0, 0, 0, 1, 0, 0], # 100\n",
        "#                  [0, 1, 0, 0, 0, 0, 0, 0], # 101\n",
        "#                  [1, 0, 0, 0, 0, 0, 0, 0], # 110\n",
        "#                  [0, 0, 0, 1, 0, 0, 0, 0]] # 111\n",
        "\n",
        "def errorCorrection(decision, H, error_pattern):\n",
        "  syndrome = compSyndrone(decision, H).astype('int')\n",
        "  value = syndrome[0, :] *4 + syndrome[1, :] * 2  + syndrome[2, :]\n",
        "  error_loc = error_pattern[value].T\n",
        "  corrected_decision = (decision + error_loc) %2\n",
        "  return corrected_decision"
      ],
      "metadata": {
        "id": "3WWoyims1JDa"
      },
      "execution_count": 162,
      "outputs": []
    },
    {
      "cell_type": "code",
      "source": [
        "def hammingEncoder(src: np.ndarray) -> np.ndarray:\n",
        "  \"\"\"\n",
        "  src: 4 x N binary array\n",
        "  return: 7 x n binary array\n",
        "  \"\"\"\n",
        "  A = np.array([[1, 1, 0],\n",
        "                [1, 0, 1],\n",
        "                [0, 1, 1],\n",
        "                [1, 1, 1]])\n",
        "  I4 = np.eye(4)\n",
        "  G = np.concatenate(([I4, A.T]), axis=0) # Encoder Matrix\n",
        "  hamming_src = np.dot(G, src) % 2 # modular 2 to make sure that the output is binary\n",
        "  return hamming_src.astype('int')\n",
        "\n",
        "\n",
        "def hammingDecoder(src: np.ndarray) -> np.ndarray:\n",
        "  \"\"\"\n",
        "  src: 7 x N binary array\n",
        "  return: 4 x n binary array\n",
        "  \"\"\"\n",
        "  A = np.array([[1, 1, 0],\n",
        "              [1, 0, 1],\n",
        "              [0, 1, 1],\n",
        "              [1, 1, 1]])\n",
        "  I3 = np.eye(3)\n",
        "  H = np.concatenate(([A, I3]), axis=0) # Decoder Matrinx\n",
        "  error_pattern = [np.zeros(7,) for k in range(8)] # extract Syndrome\n",
        "  a = np.zeros((7,)) # no error first\n",
        "  s = np.dot(H.T,a).astype('int')\n",
        "  error_pattern[s[0]*4 + s[1] *2 + s[2]] = a\n",
        "  for k in range(7):\n",
        "    a = np.zeros((7,))\n",
        "    a[k] = 1\n",
        "    s = np.dot(H.T,a).astype('int')\n",
        "    error_pattern[s[0] * 4 + s[1] * 2 + s[2]] = a\n",
        "  error_pattern = np.array(error_pattern)\n",
        "  corrected_codes =  errorCorrection(src, H, error_pattern)\n",
        "  return corrected_codes[:4, :].astype('int')\n"
      ],
      "metadata": {
        "id": "estzwhf90BFM"
      },
      "execution_count": 150,
      "outputs": []
    },
    {
      "cell_type": "code",
      "source": [
        "# parameter for experimental setup\n",
        "N = 8 # number samples\n",
        "noise_magnitude  = 1.0 # noise magnitude\n",
        "SNR =  1.0/(noise_magnitude ** 2)\n",
        "SNR_dB = 10 * np.log10(SNR)\n",
        "print(f\"Signal to noise ration: {SNR_dB:0.2f} dB\")"
      ],
      "metadata": {
        "colab": {
          "base_uri": "https://localhost:8080/"
        },
        "id": "AzW4idMzAFVQ",
        "outputId": "a929f855-8dc6-4c0b-fe10-11a9a0be324a"
      },
      "execution_count": 169,
      "outputs": [
        {
          "output_type": "stream",
          "name": "stdout",
          "text": [
            "Signal to noise ration: 0.00 dB\n"
          ]
        }
      ]
    },
    {
      "cell_type": "code",
      "source": [
        "# source encoder\n",
        "N = 8 # used only 8 samples\n",
        "src = np.random.choice(2, size=(4, N)) # 8 binary codes of size 4 bits\n",
        "hamming_src = hammingEncoder(src)\n",
        "for k in range(N):\n",
        "  print(\"Input Binary 4 bits: \", src[:, k], \"Hamming Code 7 bits: \", hamming_src[:, k])\n"
      ],
      "metadata": {
        "colab": {
          "base_uri": "https://localhost:8080/"
        },
        "id": "okKMTwHr3_RF",
        "outputId": "65447231-f185-49e9-c7e0-ce9718a76020"
      },
      "execution_count": 170,
      "outputs": [
        {
          "output_type": "stream",
          "name": "stdout",
          "text": [
            "Input Binary 4 bits:  [1 0 1 0] Hamming Code 7 bits:  [1 0 1 0 1 0 1]\n",
            "Input Binary 4 bits:  [1 0 0 1] Hamming Code 7 bits:  [1 0 0 1 0 0 1]\n",
            "Input Binary 4 bits:  [0 0 1 1] Hamming Code 7 bits:  [0 0 1 1 1 0 0]\n",
            "Input Binary 4 bits:  [0 0 1 0] Hamming Code 7 bits:  [0 0 1 0 0 1 1]\n",
            "Input Binary 4 bits:  [1 1 1 1] Hamming Code 7 bits:  [1 1 1 1 1 1 1]\n",
            "Input Binary 4 bits:  [0 0 0 1] Hamming Code 7 bits:  [0 0 0 1 1 1 1]\n",
            "Input Binary 4 bits:  [1 1 0 1] Hamming Code 7 bits:  [1 1 0 1 1 0 0]\n",
            "Input Binary 4 bits:  [1 1 0 0] Hamming Code 7 bits:  [1 1 0 0 0 1 1]\n"
          ]
        }
      ]
    },
    {
      "cell_type": "code",
      "source": [
        "# convert src into signal to send \"1\" we use 1 volt to send \"0\" we use -1 volt.\n",
        "signal = hamming_src  * 2 - 1\n",
        "for k in range(N):\n",
        "  print(\"Hamming Code 7 bits: \", hamming_src[:, k], \"Signal : \", signal[:, k])"
      ],
      "metadata": {
        "colab": {
          "base_uri": "https://localhost:8080/"
        },
        "id": "Ofkgcm1K5GIa",
        "outputId": "0d7f3ed8-3061-4bba-dcc2-328f56c02202"
      },
      "execution_count": 171,
      "outputs": [
        {
          "output_type": "stream",
          "name": "stdout",
          "text": [
            "Hamming Code 7 bits:  [1 0 1 0 1 0 1] Signal :  [ 1 -1  1 -1  1 -1  1]\n",
            "Hamming Code 7 bits:  [1 0 0 1 0 0 1] Signal :  [ 1 -1 -1  1 -1 -1  1]\n",
            "Hamming Code 7 bits:  [0 0 1 1 1 0 0] Signal :  [-1 -1  1  1  1 -1 -1]\n",
            "Hamming Code 7 bits:  [0 0 1 0 0 1 1] Signal :  [-1 -1  1 -1 -1  1  1]\n",
            "Hamming Code 7 bits:  [1 1 1 1 1 1 1] Signal :  [1 1 1 1 1 1 1]\n",
            "Hamming Code 7 bits:  [0 0 0 1 1 1 1] Signal :  [-1 -1 -1  1  1  1  1]\n",
            "Hamming Code 7 bits:  [1 1 0 1 1 0 0] Signal :  [ 1  1 -1  1  1 -1 -1]\n",
            "Hamming Code 7 bits:  [1 1 0 0 0 1 1] Signal :  [ 1  1 -1 -1 -1  1  1]\n"
          ]
        }
      ]
    },
    {
      "cell_type": "code",
      "source": [
        "# All transmission in communication system is noisy,\n",
        "noise_magnitude  = 1.0\n",
        "received_signal = signal + noise_magnitude * np.random.randn(7, 8) # 7 bits 8 codes\n",
        "for k in range(N):\n",
        "  print(\"Signal : \", signal[:, k], \"Recieved Signal: \", received_signal[:, k] )"
      ],
      "metadata": {
        "colab": {
          "base_uri": "https://localhost:8080/"
        },
        "id": "iXgEPn2t5rEA",
        "outputId": "81bf6c3b-c1fb-4304-8a53-cff10ae9a4ad"
      },
      "execution_count": 172,
      "outputs": [
        {
          "output_type": "stream",
          "name": "stdout",
          "text": [
            "Signal :  [ 1 -1  1 -1  1 -1  1] Recieved Signal:  [ 0.37906462 -1.36121899  1.37518951 -0.42057728  0.31480979 -0.19247272\n",
            "  1.0640983 ]\n",
            "Signal :  [ 1 -1 -1  1 -1 -1  1] Recieved Signal:  [ 0.15408287 -0.27334931 -0.73079165  0.37794305 -0.70128997 -0.33513777\n",
            " -0.41189858]\n",
            "Signal :  [-1 -1  1  1  1 -1 -1] Recieved Signal:  [-2.64686666 -1.85095154  1.40505591  1.28139867 -0.00401405 -0.94724868\n",
            " -1.26949399]\n",
            "Signal :  [-1 -1  1 -1 -1  1  1] Recieved Signal:  [-1.25679134 -1.43223535  0.31389933 -1.67270011 -1.11007211  1.05469362\n",
            "  1.06126004]\n",
            "Signal :  [1 1 1 1 1 1 1] Recieved Signal:  [-1.60658745e-03  9.72135055e-01  4.46914599e-01  1.18785500e-01\n",
            "  6.03453875e-01  2.57793786e+00  1.03284628e+00]\n",
            "Signal :  [-1 -1 -1  1  1  1  1] Recieved Signal:  [-3.04689617 -2.02136631 -0.26115422  1.85854177  0.51959166  0.81359729\n",
            "  2.18606938]\n",
            "Signal :  [ 1  1 -1  1  1 -1 -1] Recieved Signal:  [ 1.49998847 -0.5060233  -2.33604368  2.98244678  1.78462928 -1.15566817\n",
            " -1.32823711]\n",
            "Signal :  [ 1  1 -1 -1 -1  1  1] Recieved Signal:  [ 1.737497    1.24132382 -1.53478581 -2.53640329 -0.31103714  0.73948846\n",
            "  1.87054608]\n"
          ]
        }
      ]
    },
    {
      "cell_type": "code",
      "source": [
        "# make binary decision of recieved signal >= 0, we decide \"1\" and if signal <0, we decide \"1\"\n",
        "decided_code = (received_signal >=0).astype('int')\n",
        "for k in range(N):\n",
        "  print(\"Hamming Code 7 bits: \", hamming_src[:, k], \"decided code: \", decided_code[:, k] )\n",
        "num_bit_errors = (hamming_src != decided_code).sum()\n",
        "error_rate = (hamming_src != decided_code).mean()\n",
        "print(f\"There are {num_bit_errors} from {N*7} bits with error rate {error_rate*100: 0.3f}%\")\n",
        "# 4 bit data\n",
        "num_bit_errors = (hamming_src[:4, :] != decided_code[:4, :]).sum()\n",
        "error_rate = (hamming_src[:4, :] != decided_code[:4, :]).mean()\n",
        "print(f\"For the first 4 bit data. There are {num_bit_errors} from {N*4} bits with error rate {error_rate*100: 0.3f}%\")"
      ],
      "metadata": {
        "colab": {
          "base_uri": "https://localhost:8080/"
        },
        "id": "bCEH2mU66QPO",
        "outputId": "b4bb7294-cb8b-49ae-e152-48b67854b571"
      },
      "execution_count": 173,
      "outputs": [
        {
          "output_type": "stream",
          "name": "stdout",
          "text": [
            "Hamming Code 7 bits:  [1 0 1 0 1 0 1] decided code:  [1 0 1 0 1 0 1]\n",
            "Hamming Code 7 bits:  [1 0 0 1 0 0 1] decided code:  [1 0 0 1 0 0 0]\n",
            "Hamming Code 7 bits:  [0 0 1 1 1 0 0] decided code:  [0 0 1 1 0 0 0]\n",
            "Hamming Code 7 bits:  [0 0 1 0 0 1 1] decided code:  [0 0 1 0 0 1 1]\n",
            "Hamming Code 7 bits:  [1 1 1 1 1 1 1] decided code:  [0 1 1 1 1 1 1]\n",
            "Hamming Code 7 bits:  [0 0 0 1 1 1 1] decided code:  [0 0 0 1 1 1 1]\n",
            "Hamming Code 7 bits:  [1 1 0 1 1 0 0] decided code:  [1 0 0 1 1 0 0]\n",
            "Hamming Code 7 bits:  [1 1 0 0 0 1 1] decided code:  [1 1 0 0 0 1 1]\n",
            "There are 4 from 56 bits with error rate  7.143%\n",
            "For the first 4 bit data. There are 2 from 32 bits with error rate  6.250%\n"
          ]
        }
      ]
    },
    {
      "cell_type": "code",
      "source": [
        "# Using Hamming decoder\n",
        "hamming_decoded_code = hammingDecoder(decided_code)\n",
        "for k in range(N):\n",
        "  print(\"source Code 4 bits: \", src[:, k], \"hamming decoded code: \", hamming_decoded_code[:, k] )\n",
        "num_bit_errors = (src !=hamming_decoded_code).sum()\n",
        "error_rate = (src != hamming_decoded_code).mean()\n",
        "print(f\"For the first 4 bit data with Hamming Decoder.\")\n",
        "print(f\"There are {num_bit_errors} from {N*4} bits with error rate {error_rate*100: 0.3f}%\")"
      ],
      "metadata": {
        "id": "fztN6Erxtr0x",
        "colab": {
          "base_uri": "https://localhost:8080/"
        },
        "outputId": "ae2471fc-7fa5-4fe4-91f3-9505da1fecc2"
      },
      "execution_count": 174,
      "outputs": [
        {
          "output_type": "stream",
          "name": "stdout",
          "text": [
            "source Code 4 bits:  [1 0 1 0] hamming decoded code:  [1 0 1 0]\n",
            "source Code 4 bits:  [1 0 0 1] hamming decoded code:  [1 0 0 1]\n",
            "source Code 4 bits:  [0 0 1 1] hamming decoded code:  [0 0 1 1]\n",
            "source Code 4 bits:  [0 0 1 0] hamming decoded code:  [0 0 1 0]\n",
            "source Code 4 bits:  [1 1 1 1] hamming decoded code:  [1 1 1 1]\n",
            "source Code 4 bits:  [0 0 0 1] hamming decoded code:  [0 0 0 1]\n",
            "source Code 4 bits:  [1 1 0 1] hamming decoded code:  [1 1 0 1]\n",
            "source Code 4 bits:  [1 1 0 0] hamming decoded code:  [1 1 0 0]\n",
            "For the first 4 bit data with Hamming Decoder.\n",
            "There are 0 from 32 bits with error rate  0.000%\n"
          ]
        }
      ]
    }
  ]
}